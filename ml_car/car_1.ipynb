{
 "metadata": {
  "language_info": {
   "codemirror_mode": {
    "name": "ipython",
    "version": 3
   },
   "file_extension": ".py",
   "mimetype": "text/x-python",
   "name": "python",
   "nbconvert_exporter": "python",
   "pygments_lexer": "ipython3",
   "version": "3.8.5-final"
  },
  "orig_nbformat": 2,
  "kernelspec": {
   "name": "python3",
   "display_name": "Python 3.8.5 64-bit ('tf2_gpu': conda)",
   "metadata": {
    "interpreter": {
     "hash": "9de04680d766f4f2f5031885395663e34f83054bcc804da6a45dc9d6d27a90b5"
    }
   }
  }
 },
 "nbformat": 4,
 "nbformat_minor": 2,
 "cells": [
  {
   "cell_type": "code",
   "execution_count": null,
   "metadata": {},
   "outputs": [],
   "source": [
    "import numpy as numpy\n",
    "from matplotlib import pyplot as plt\n",
    "import pandas as pd\n",
    "from sklearn.model_selection import train_test_split\n",
    "import plotly.offline as py"
   ]
  },
  {
   "cell_type": "code",
   "execution_count": null,
   "metadata": {},
   "outputs": [],
   "source": [
    "data = pd.read_csv(r'E:\\Machine Learning\\Deep Learning\\tf2_certification\\car.data', names=['buying','maint','doors','persons','lug_boot','safety','eval'])"
   ]
  },
  {
   "cell_type": "code",
   "execution_count": null,
   "metadata": {},
   "outputs": [],
   "source": [
    "data.sample(10)"
   ]
  },
  {
   "cell_type": "code",
   "execution_count": null,
   "metadata": {},
   "outputs": [],
   "source": [
    "data['eval'].value_counts().sort_index()"
   ]
  },
  {
   "cell_type": "code",
   "execution_count": null,
   "metadata": {},
   "outputs": [],
   "source": [
    "fig = {\n",
    "  \"data\": [\n",
    "    {\n",
    "      \"values\": [1210,384,69,65],\n",
    "      \"labels\": [\n",
    "        \"Unacceptable\",\n",
    "        \"Acceptable\",\n",
    "        \"Good\",\n",
    "        \"Very Good\"\n",
    "      ],\n",
    "      \"domain\": {\"column\": 0},\n",
    "      \"name\": \"Car Evaluation\",\n",
    "      \"hoverinfo\":\"label+percent+name\",\n",
    "      \"hole\": .6,\n",
    "      \"type\": \"pie\"\n",
    "    }],\n",
    "  \"layout\": {\n",
    "        \"title\":\"Distribution of Evaluated Cars\",\n",
    "        \"grid\": {\"rows\": 1, \"columns\": 1},\n",
    "        \"annotations\": [\n",
    "            {\n",
    "                \"font\": {\n",
    "                    \"size\": 36\n",
    "                },\n",
    "                \"showarrow\": False,\n",
    "                \"text\": \"\",\n",
    "                \"x\": 0.5,\n",
    "                \"y\": 0.5\n",
    "            }\n",
    "        ]\n",
    "    }\n",
    "}\n",
    "py.iplot(fig)"
   ]
  },
  {
   "cell_type": "code",
   "execution_count": 45,
   "metadata": {},
   "outputs": [
    {
     "output_type": "stream",
     "name": "stdout",
     "text": [
      "eval    acc  good  unacc  vgood\nbuying                         \nhigh    108     0    324      0\nlow      89    46    258     39\nmed     115    23    268     26\nvhigh    72     0    360      0 \n\n eval   acc  good  unacc  vgood\nmaint                         \nhigh   105     0    314     13\nlow     92    46    268     26\nmed    115    23    268     26\nvhigh   72     0    360      0 \n\n eval   acc  good  unacc  vgood\ndoors                         \n2       81    15    326     10\n3       99    18    300     15\n4      102    18    292     20\n5more  102    18    292     20 \n\n eval     acc  good  unacc  vgood\npersons                         \n2          0     0    576      0\n4        198    36    312     30\nmore     186    33    322     35 \n\n eval      acc  good  unacc  vgood\nlug_boot                         \nbig       144    24    368     40\nmed       135    24    392     25\nsmall     105    21    450      0 \n\n eval    acc  good  unacc  vgood\nsafety                         \nhigh    204    30    277     65\nlow       0     0    576      0\nmed     180    39    357      0\n"
     ]
    }
   ],
   "source": [
    "buy = pd.crosstab(data['buying'], data['eval'])\n",
    "maintenance = pd.crosstab(data['maint'], data['eval'])\n",
    "doors = pd.crosstab(data['doors'],data['eval'])\n",
    "persons = pd.crosstab(data['persons'], data['eval'])\n",
    "luggage_boot = pd.crosstab(data['lug_boot'], data['eval'])\n",
    "safety = pd.crosstab(data['safety'], data['eval'])\n",
    "print(buy, '\\n\\n' ,maintenance, '\\n\\n', doors, '\\n\\n', persons, '\\n\\n', luggage_boot, '\\n\\n', safety)"
   ]
  },
  {
   "cell_type": "code",
   "execution_count": null,
   "metadata": {},
   "outputs": [],
   "source": []
  }
 ]
}