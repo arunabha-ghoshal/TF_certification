{
 "metadata": {
  "language_info": {
   "codemirror_mode": {
    "name": "ipython",
    "version": 3
   },
   "file_extension": ".py",
   "mimetype": "text/x-python",
   "name": "python",
   "nbconvert_exporter": "python",
   "pygments_lexer": "ipython3",
   "version": "3.8.5-final"
  },
  "orig_nbformat": 2,
  "kernelspec": {
   "name": "python3",
   "display_name": "Python 3.8.5 64-bit",
   "metadata": {
    "interpreter": {
     "hash": "9de04680d766f4f2f5031885395663e34f83054bcc804da6a45dc9d6d27a90b5"
    }
   }
  }
 },
 "nbformat": 4,
 "nbformat_minor": 2,
 "cells": [
  {
   "cell_type": "code",
   "execution_count": 63,
   "metadata": {},
   "outputs": [
    {
     "output_type": "stream",
     "name": "stdout",
     "text": [
      "*  *  \n\n*  *  \n\n*  *  *  *  *  *  \n\n*              *  \n\n*     *  *     *  \n\n*     *  *     *  \n\n*              *  \n\n*  *  *  *  *  *  \n\n*  *  *  *  *  *  *  *  *  *  \n\n*                          *  \n\n*     *  *  *  *  *  *     *  \n\n*     *              *     *  \n\n*     *     *  *     *     *  \n\n*     *     *  *     *     *  \n\n*     *              *     *  \n\n*     *  *  *  *  *  *     *  \n\n*                          *  \n\n*  *  *  *  *  *  *  *  *  *  \n\n"
     ]
    }
   ],
   "source": [
    "import numpy as np\n",
    "case = int(input())\n",
    "layers = []\n",
    "for test in range(case):\n",
    "    layers.append(int(input()))\n",
    "for layer in layers:\n",
    "    row = 2+(4*(layer-1))\n",
    "    col = row\n",
    "    arr = np.zeros(row*col).reshape(row,col)\n",
    "    #print(arr)\n",
    "    for sec in range(layer):\n",
    "        for i in range(2*sec,row-(2*sec)):\n",
    "            for j in range(2*sec,col-(2*sec)):\n",
    "                if i == 2*sec or i == row-(2*sec)-1 or j == 2*sec or j == col-(2*sec)-1:\n",
    "                    arr[i,j]=1\n",
    "    row,col = arr.shape\n",
    "    for i in range(row):\n",
    "        for j in range(col):\n",
    "            if arr[i,j] == 1:\n",
    "                print('*', end = '  ')\n",
    "            else:\n",
    "                print(' ', end = '  ')\n",
    "        print('\\n')\n",
    "    "
   ]
  },
  {
   "cell_type": "code",
   "execution_count": null,
   "metadata": {},
   "outputs": [],
   "source": []
  }
 ]
}