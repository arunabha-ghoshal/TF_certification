{
 "metadata": {
  "language_info": {
   "codemirror_mode": {
    "name": "ipython",
    "version": 3
   },
   "file_extension": ".py",
   "mimetype": "text/x-python",
   "name": "python",
   "nbconvert_exporter": "python",
   "pygments_lexer": "ipython3",
   "version": "3.8.5-final"
  },
  "orig_nbformat": 2,
  "kernelspec": {
   "name": "python3",
   "display_name": "Python 3",
   "language": "python"
  }
 },
 "nbformat": 4,
 "nbformat_minor": 2,
 "cells": [
  {
   "cell_type": "code",
   "execution_count": 1,
   "metadata": {},
   "outputs": [],
   "source": [
    "import tensorflow as tf\n",
    "import numpy as np\n",
    "from matplotlib import pyplot as plt\n",
    "import mitdeeplearning"
   ]
  },
  {
   "cell_type": "code",
   "execution_count": 9,
   "metadata": {},
   "outputs": [
    {
     "output_type": "stream",
     "name": "stdout",
     "text": [
      "`sport` is a 0-d tensor\n`number` is a 0-d tesnor\n"
     ]
    }
   ],
   "source": [
    "### Defining 0-d Tensors ###\n",
    "sport = tf.constant('Cricket', dtype=tf.string)\n",
    "number = tf.constant(1.414, dtype=tf.float64)\n",
    "print('`sport` is a {}-d tensor'.format(tf.rank(sport).numpy()))\n",
    "print('`number` is a {}-d tesnor'.format(tf.rank(number).numpy()))"
   ]
  },
  {
   "cell_type": "code",
   "execution_count": 8,
   "metadata": {},
   "outputs": [
    {
     "output_type": "stream",
     "name": "stdout",
     "text": [
      "`sports` is a 1-d tensor\n`numbers` is a 1-d tensor\n"
     ]
    }
   ],
   "source": [
    "### Defining 1-d Tensors ###\n",
    "sports = tf.constant(['cricket','football'],dtype=tf.string)\n",
    "numbers = tf.constant([1.414,1.732],dtype=tf.float64)\n",
    "print('`sports` is a {}-d tensor'.format(tf.rank(sports).numpy()))\n",
    "print('`numbers` is a {}-d tensor'.format(tf.rank(numbers).numpy()))"
   ]
  },
  {
   "cell_type": "code",
   "execution_count": 13,
   "metadata": {},
   "outputs": [
    {
     "output_type": "stream",
     "name": "stdout",
     "text": [
      "2\n"
     ]
    }
   ],
   "source": [
    "### Defining 2-d Tensors ###\n",
    "\n",
    "matrix = tf.constant([[1.414,1.732],[0.123,0.456]],dtype=tf.float64)\n",
    "assert isinstance(matrix,tf.Tensor)\n",
    "assert tf.rank(matrix).numpy() == 2\n",
    "print(tf.rank(matrix).numpy())"
   ]
  },
  {
   "cell_type": "code",
   "execution_count": 53,
   "metadata": {},
   "outputs": [
    {
     "output_type": "stream",
     "name": "stdout",
     "text": [
      "4\n[10, 256, 256, 3]\n"
     ]
    }
   ],
   "source": [
    "### Defining 2-d Tensors ###\n",
    "\n",
    "image = tf.zeros([10,256,256,3],dtype=tf.int32)\n",
    "assert isinstance(image,tf.Tensor)\n",
    "assert tf.rank(image).numpy() == 4\n",
    "assert tf.shape(image).numpy().tolist() == [10,256,256,3]\n",
    "print(tf.rank(image).numpy())\n",
    "print(tf.shape(image).numpy().tolist())"
   ]
  },
  {
   "cell_type": "code",
   "execution_count": 51,
   "metadata": {},
   "outputs": [
    {
     "output_type": "stream",
     "name": "stdout",
     "text": [
      "`row_vector` : [0.123 0.456]\n`column_vector` : [1.732 0.456]\n`scalar` : 1.414\n"
     ]
    }
   ],
   "source": [
    "row_vector = matrix[1].numpy()\n",
    "column_vector = matrix[:,1].numpy()\n",
    "scalar = matrix[0,0]\n",
    "\n",
    "print('`row_vector` : {}'.format(row_vector))\n",
    "print('`column_vector` : {}'.format(column_vector))\n",
    "print('`scalar` : {}'.format(scalar))"
   ]
  },
  {
   "cell_type": "code",
   "execution_count": 68,
   "metadata": {},
   "outputs": [
    {
     "output_type": "stream",
     "name": "stdout",
     "text": [
      "tf.Tensor(5, shape=(), dtype=int32)\ntf.Tensor(5, shape=(), dtype=int32)\n"
     ]
    }
   ],
   "source": [
    "# Create the nodes in the graph, and initialize values\n",
    "a = tf.constant(2)\n",
    "b = tf.constant(3)\n",
    "# Add them!\n",
    "c1 = tf.add(a,b)\n",
    "c2 = a+b    # TensorFlow overrides the \"+\" operation so that it is able to act on Tensors\n",
    "print(c1)\n",
    "print(c2)"
   ]
  },
  {
   "cell_type": "code",
   "execution_count": 73,
   "metadata": {},
   "outputs": [
    {
     "output_type": "stream",
     "name": "stdout",
     "text": [
      "tf.Tensor([0 8], shape=(2,), dtype=int32)\n"
     ]
    }
   ],
   "source": [
    "### Defining Tensor computations ###\n",
    "\n",
    "# Construct a simple computation function\n",
    "def func(a,b):\n",
    "    c = tf.add(a,b)\n",
    "    d = tf.subtract(b,1)\n",
    "    e = tf.multiply(c,d)\n",
    "    return e\n",
    "# Consider example values for a,b\n",
    "a,b = [5,6],[1,2]\n",
    "# Execute the computation\n",
    "res = func(a,b)\n",
    "print(res)"
   ]
  },
  {
   "cell_type": "code",
   "execution_count": null,
   "metadata": {},
   "outputs": [],
   "source": []
  }
 ]
}